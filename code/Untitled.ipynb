{
 "cells": [
  {
   "cell_type": "markdown",
   "id": "4a2f2671-8ef4-48c6-98e8-422dead88a92",
   "metadata": {},
   "source": [
    "# settings\n"
   ]
  },
  {
   "cell_type": "code",
   "execution_count": 30,
   "id": "b75784c5-ba79-41d7-8956-cae8c9d824db",
   "metadata": {},
   "outputs": [
    {
     "data": {
      "text/plain": [
       "'E:\\\\minor\\\\proj\\\\code'"
      ]
     },
     "execution_count": 30,
     "metadata": {},
     "output_type": "execute_result"
    }
   ],
   "source": [
    "# %cd code\n",
    "# insert your desired path to work on\n",
    "import os\n",
    "from os.path import join\n",
    "project_path = os.path.dirname(os.getcwd())\n",
    "# os.chdir(join('..','data'))\n",
    "os.getcwd()"
   ]
  },
  {
   "cell_type": "code",
   "execution_count": null,
   "id": "90319ae2-681f-462d-aa13-8fe4945ed298",
   "metadata": {},
   "outputs": [],
   "source": [
    "import sys\n",
    "sys.path.append(join(project_path, 'code'))"
   ]
  },
  {
   "cell_type": "code",
   "execution_count": null,
   "id": "890a0d8f-f9b3-4fe0-8521-0753f5ad88f8",
   "metadata": {},
   "outputs": [],
   "source": [
    "import matplotlib\n",
    "font = {'family':'Arial', 'size':'15', 'weight':'normal'}\n",
    "\n",
    "matplotlib.rc('font', **font)"
   ]
  },
  {
   "cell_type": "code",
   "execution_count": null,
   "id": "f3178586-15da-437d-b4ca-854a61ff719c",
   "metadata": {},
   "outputs": [],
   "source": [
    "config = {\n",
    "    'main_brazil': 'Brazil',\n",
    "    'main_peru': 'Peru',\n",
    "    'baseline': join(project_path, \"baseline_models\"),\n",
    "    'output': join(project_path, \"code\", \"saved_models\"),\n",
    "    'metrics': join(project_path, \"code\", \"metrics\")\n",
    "}\n",
    "\n",
    "\n",
    "# List comprehension for the folder structure code\n",
    "[os.makedirs(val, exist_ok=True) for key, val in config.items()]"
   ]
  },
  {
   "cell_type": "code",
   "execution_count": null,
   "id": "30b2fa27-a6c6-4697-97ad-0d3a7c99aca6",
   "metadata": {},
   "outputs": [],
   "source": [
    "import utils\n",
    "import matplotlib.pyplot as plt\n",
    "import numpy as np\n",
    "import pandas as pd\n",
    "import scipy.stats as st\n",
    "from sklearn.preprocessing import MinMaxScaler, StandardScaler\n",
    "from sklearn.metrics import mean_squared_error, r2_score\n",
    "from datetime import datetime\n",
    "from glob import glob\n",
    "from config import DEP_NAMES, GROUPED_VARS, DATA_REDUCER_SETTINGS, DATA_PROCESSING_SETTINGS\n"
   ]
  },
  {
   "cell_type": "markdown",
   "id": "bebb0ae9-99be-48ce-b050-73ac2a86c816",
   "metadata": {},
   "source": [
    "# new"
   ]
  },
  {
   "cell_type": "code",
   "execution_count": null,
   "id": "749b86e5-f0c0-47b3-bd70-9a76016df1fa",
   "metadata": {},
   "outputs": [],
   "source": []
  },
  {
   "cell_type": "code",
   "execution_count": null,
   "id": "0548d3b7-980b-4726-bfd0-4c599712d49d",
   "metadata": {},
   "outputs": [],
   "source": []
  },
  {
   "cell_type": "code",
   "execution_count": null,
   "id": "371cee55-32f5-4ca6-852b-6f17181d0106",
   "metadata": {},
   "outputs": [],
   "source": [
    "dataframe = pd.read_csv(\"reduced.csv\")\n",
    "# dataframe.head()\n",
    "\n",
    "# Temporarily show all columns\n",
    "with pd.option_context('display.max_columns', None):\n",
    "    print(dataframe.head())"
   ]
  },
  {
   "cell_type": "code",
   "execution_count": null,
   "id": "be6fcf20-c72e-42ae-a323-2ec30db8ef26",
   "metadata": {},
   "outputs": [],
   "source": [
    "# Define search terms, regions, and timeframes\n",
    "search_terms = [\n",
    "    \"sintomas dengue\", \"sintomas de dengue\", \"dengue\",\n",
    "    \"mosquito da dengue\", \"febre do mosquito\", \"repelente contra dengue\",\n",
    "    \"mosquito\", \"tratamento para dengue\"\n",
    "]\n",
    "DEP_NAMES = {\n",
    "    # 0: 'RO', 1: 'AC', 2: 'AM', 3: 'RR', 4: 'PA', 5: 'AP', 6: 'TO',\n",
    "    # 7: 'MA', 8: 'PI', 9: 'CE', 10: 'RN', 11: 'PB', \n",
    "    12: 'PE', 13: 'AL', 14: 'SE', 15: 'BA', 16: 'MG', 17: 'ES', 18: 'RJ',\n",
    "    19: 'SP', 20: 'PR', \n",
    "    # 21: 'SC'\n",
    "    # , 22: 'RS', 23: 'MS', 24: 'MT',\n",
    "    # 25: 'GO', 26: 'DF'\n",
    "}\n",
    "timeframes = [\"2001-01-01 2019-12-01\"]\n",
    "\n",
    "def generate_links():\n",
    "    \"\"\"Generates all combinations of Google Trends URLs.\"\"\"\n",
    "    links = []\n",
    "    for term in search_terms:\n",
    "        for dep_id, region in DEP_NAMES.items():\n",
    "            for timeframe in timeframes:\n",
    "                # Replace spaces with '%20' for proper URL encoding\n",
    "                encoded_term = term.replace(' ', '%20')\n",
    "                encoded_timeframe = timeframe.replace(' ', '%20')\n",
    "                url = f\"https://trends.google.com/trends/explore?date={encoded_timeframe}&geo=BR-{region}&q={encoded_term}&hl=en\"\n",
    "                links.append(url)\n",
    "    return links\n",
    "\n",
    "# Generate the links\n",
    "all_links = generate_links()\n",
    "\n",
    "# Print JavaScript code for Inspect Element Console\n",
    "js_code = \"const links = [\\n\" + \",\\n\".join([f'\"{link}\"' for link in all_links]) + \"\\n];\\nconsole.log(links.join('\\\\n'));\"\n",
    "\n",
    "# Output the JavaScript code\n",
    "print(\"Copy the following code and paste it into the Chrome Console (Inspect > Console):\")\n",
    "print(js_code)\n"
   ]
  },
  {
   "cell_type": "markdown",
   "id": "271dc67f-7dcb-4c38-a3d3-2a9168902453",
   "metadata": {},
   "source": [
    "# NEWW"
   ]
  },
  {
   "cell_type": "code",
   "execution_count": null,
   "id": "30cf9e7c-9b7a-48fa-b358-1f43329927d7",
   "metadata": {},
   "outputs": [],
   "source": []
  }
 ],
 "metadata": {
  "kernelspec": {
   "display_name": "Python 3 (ipykernel)",
   "language": "python",
   "name": "python3"
  },
  "language_info": {
   "codemirror_mode": {
    "name": "ipython",
    "version": 3
   },
   "file_extension": ".py",
   "mimetype": "text/x-python",
   "name": "python",
   "nbconvert_exporter": "python",
   "pygments_lexer": "ipython3",
   "version": "3.12.7"
  }
 },
 "nbformat": 4,
 "nbformat_minor": 5
}
